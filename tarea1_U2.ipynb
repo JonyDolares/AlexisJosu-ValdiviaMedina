{
  "nbformat": 4,
  "nbformat_minor": 0,
  "metadata": {
    "colab": {
      "provenance": [],
      "include_colab_link": true
    },
    "kernelspec": {
      "name": "python3",
      "display_name": "Python 3"
    },
    "language_info": {
      "name": "python"
    }
  },
  "cells": [
    {
      "cell_type": "markdown",
      "metadata": {
        "id": "view-in-github",
        "colab_type": "text"
      },
      "source": [
        "<a href=\"https://colab.research.google.com/github/JonyDolares/AlexisJosu-ValdiviaMedina/blob/main/tarea1_U2.ipynb\" target=\"_parent\"><img src=\"https://colab.research.google.com/assets/colab-badge.svg\" alt=\"Open In Colab\"/></a>"
      ]
    },
    {
      "cell_type": "markdown",
      "source": [
        "#Tarea 1\n",
        "## Oscar Lenin Espinoza Alvarez\n",
        "\n",
        "## De: Alexis Josue Valdivia Medina IT3"
      ],
      "metadata": {
        "id": "0oqcQVpn2oEh"
      }
    },
    {
      "cell_type": "markdown",
      "source": [
        "### Completa los siguientes ejercicios usando las siguientes listas:\n",
        "* lst=[13,3.141,True,'Hola mundo!','x']\n",
        "* lstN=[13,33,45,68]\n",
        "* lstD=[13,33,45,[1,2,3]]"
      ],
      "metadata": {
        "id": "NnPF0SZW222A"
      }
    },
    {
      "cell_type": "markdown",
      "source": [
        "#### 1.- lst: ordenar en asc y desc. en 2 nuevas listas"
      ],
      "metadata": {
        "id": "Y8Xc2bdC3EdY"
      }
    },
    {
      "cell_type": "code",
      "source": [
        "lst = [13, 3.141, True, 'Hola mundo!', 'x']\n",
        "numeros = [v for v in lst if isinstance(v, (int, float))]\n",
        "cadenas = [v for v in lst if isinstance(v, str)]\n",
        "asc_lst = sorted(numeros) + cadenas\n",
        "desc_lst = sorted(numeros, reverse=True) + list(reversed(cadenas))\n",
        "print(\"asc_lst =\", asc_lst)\n",
        "print(\"desc_lst =\", desc_lst)"
      ],
      "metadata": {
        "id": "nQl5VrgK21Yd",
        "colab": {
          "base_uri": "https://localhost:8080/"
        },
        "outputId": "f81acb49-331c-4425-f2d3-b554eafb54b9"
      },
      "execution_count": 5,
      "outputs": [
        {
          "output_type": "stream",
          "name": "stdout",
          "text": [
            "asc_lst = [True, 3.141, 13, 'Hola mundo!', 'x']\n",
            "desc_lst = [13, 3.141, True, 'x', 'Hola mundo!']\n"
          ]
        }
      ]
    },
    {
      "cell_type": "markdown",
      "source": [
        "#### 2.- lstN debe quedar asi: [13,4.5342,True,'hola mundo']"
      ],
      "metadata": {
        "id": "87UzcB2K3Ox-"
      }
    },
    {
      "cell_type": "code",
      "execution_count": 6,
      "metadata": {
        "id": "5mqHdXC52mr2",
        "colab": {
          "base_uri": "https://localhost:8080/"
        },
        "outputId": "aaaf2539-479d-48d0-f269-67fa778f0857"
      },
      "outputs": [
        {
          "output_type": "stream",
          "name": "stdout",
          "text": [
            "lstN = [13, 4.5342, True, 'hola mundo']\n"
          ]
        }
      ],
      "source": [
        "lstN = [13, 33, 45, 68]\n",
        "lstN = [13, 4.5342, True, 'hola mundo']\n",
        "print(\"lstN =\", lstN)"
      ]
    },
    {
      "cell_type": "markdown",
      "source": [
        "### 3.- lstD: eliminar los valores de la lista anidada uno a uno y agregar los siguientes valores 4,5,6.\n"
      ],
      "metadata": {
        "id": "8Ns0qCAq3XrX"
      }
    },
    {
      "cell_type": "code",
      "source": [
        "lstD = [13, 33, 45, [1, 2, 3]]\n",
        "while lstD[-1]:\n",
        "    lstD[-1].pop()\n",
        "lstD[-1].extend([4, 5, 6])\n",
        "print(\"lstD =\", lstD)"
      ],
      "metadata": {
        "id": "rGmVuGQh3i_A",
        "colab": {
          "base_uri": "https://localhost:8080/"
        },
        "outputId": "0caaee18-63b9-4a37-9750-6082fb0fb96a"
      },
      "execution_count": 7,
      "outputs": [
        {
          "output_type": "stream",
          "name": "stdout",
          "text": [
            "lstD = [13, 33, 45, [4, 5, 6]]\n"
          ]
        }
      ]
    },
    {
      "cell_type": "markdown",
      "source": [
        "#### 4.- Anidar lst en lstN, anidar lstN en lstD,eliminar 'X' y agregar 'Z' en lst. imprimir lst.\n"
      ],
      "metadata": {
        "id": "tbVJTy8m3rhO"
      }
    },
    {
      "cell_type": "code",
      "source": [
        "lst = [13, 3.141, True, 'Hola mundo!', 'x']\n",
        "lstN = [13, 4.5342, True, 'hola mundo']\n",
        "lstD = [13, 33, 45, [4, 5, 6]]\n",
        "if 'x' in lst:\n",
        "    lst.remove('x')\n",
        "lst.append('Z')\n",
        "lstN.append(lst.copy())\n",
        "lstD.append(lstN.copy())\n",
        "print(\"lst (final) =\", lst)\n",
        "print(\"lstN (final) =\", lstN)\n",
        "print(\"lstD (final) =\", lstD)"
      ],
      "metadata": {
        "id": "LOX55g3J3o7v",
        "colab": {
          "base_uri": "https://localhost:8080/"
        },
        "outputId": "e555c64c-e0e0-49fe-e8f1-bf3b389ca178"
      },
      "execution_count": 8,
      "outputs": [
        {
          "output_type": "stream",
          "name": "stdout",
          "text": [
            "lst (final) = [13, 3.141, True, 'Hola mundo!', 'Z']\n",
            "lstN (final) = [13, 4.5342, True, 'hola mundo', [13, 3.141, True, 'Hola mundo!', 'Z']]\n",
            "lstD (final) = [13, 33, 45, [4, 5, 6], [13, 4.5342, True, 'hola mundo', [13, 3.141, True, 'Hola mundo!', 'Z']]]\n"
          ]
        }
      ]
    },
    {
      "cell_type": "markdown",
      "source": [
        "#### 5.- Crear el diccionario con los siguientes elementos. dic={'Hugo':10,'Daniel':7.7,'Marcos':9.8,'Adrian':5.4,'Jorge':8,'Andrea':9}\n"
      ],
      "metadata": {
        "id": "DaS0AKPY3-Rn"
      }
    },
    {
      "cell_type": "code",
      "source": [
        "dic={'Hugo':10,'Daniel':7.7,'Marcos':9.8,'Adrian':5.4,'Jorge':8,'Andrea':9,'Elias':10}\n",
        "dic\n",
        "{'Hugo': 10,\n",
        "'Daniel': 7.7,\n",
        "'Marcos': 9.8,\n",
        "'Adrian': 5.4,\n",
        "'Jorge': 8,\n",
        "'Andrea': 9,\n",
        "'Elias': 10}\n"
      ],
      "metadata": {
        "id": "W1ZrzLoI4FH4",
        "colab": {
          "base_uri": "https://localhost:8080/"
        },
        "outputId": "34746a3f-1bc0-47a7-80d5-54c7c0dd9ac5"
      },
      "execution_count": 17,
      "outputs": [
        {
          "output_type": "execute_result",
          "data": {
            "text/plain": [
              "{'Hugo': 10,\n",
              " 'Daniel': 7.7,\n",
              " 'Marcos': 9.8,\n",
              " 'Adrian': 5.4,\n",
              " 'Jorge': 8,\n",
              " 'Andrea': 9,\n",
              " 'Elias': 10}"
            ]
          },
          "metadata": {},
          "execution_count": 17
        }
      ]
    },
    {
      "cell_type": "markdown",
      "source": [
        "#### 6.- agregar al diccionario tu nombre y promedio"
      ],
      "metadata": {
        "id": "P-loWtNO4GOP"
      }
    },
    {
      "cell_type": "code",
      "source": [
        "dic['Alexis Josué'] = 90\n",
        "print(\"dic actualizado =\", dic)"
      ],
      "metadata": {
        "id": "VandOFMR4Uyr",
        "colab": {
          "base_uri": "https://localhost:8080/"
        },
        "outputId": "7d35d270-f4d6-4889-a344-f155be406cd2"
      },
      "execution_count": 10,
      "outputs": [
        {
          "output_type": "stream",
          "name": "stdout",
          "text": [
            "dic actualizado = {'Hugo': 10, 'Daniel': 7.7, 'Marcos': 9.8, 'Adrian': 5.4, 'Jorge': 8, 'Andrea': 9, 'Elias': 10, 'Alexis Josué': 90}\n"
          ]
        }
      ]
    },
    {
      "cell_type": "markdown",
      "source": [
        "#### 7.- Crear un nuevo diccionario donde el nombre de cada alumno se la llave y dentro informacion personal, promedio, edad, sexo y un booleano (asistencia) 'Hugo':[10,9,'M',True]"
      ],
      "metadata": {
        "id": "uDNKiaAJ4VXd"
      }
    },
    {
      "cell_type": "code",
      "source": [
        "alumnos = {\n",
        "    'Hugo':   [10, 20, 'M', True],\n",
        "    'Daniel': [7.7, 21, 'M', True],\n",
        "    'Marcos': [9.8, 22, 'M', True],\n",
        "    'Adrian': [5.4, 20, 'M', False],\n",
        "    'Jorge':  [8, 23, 'M', True],\n",
        "    'Andrea': [9, 19, 'F', True],\n",
        "    'Alexis Josué': [90, 24, 'M', True]\n",
        "}\n",
        "print(\"alumnos =\", alumnos)"
      ],
      "metadata": {
        "id": "5nYSVbAH4ohI",
        "colab": {
          "base_uri": "https://localhost:8080/"
        },
        "outputId": "0dbdc902-4dc8-408b-e40b-bbc334065475"
      },
      "execution_count": 19,
      "outputs": [
        {
          "output_type": "stream",
          "name": "stdout",
          "text": [
            "alumnos = {'Hugo': [10, 20, 'M', True], 'Daniel': [7.7, 21, 'M', True], 'Marcos': [9.8, 22, 'M', True], 'Adrian': [5.4, 20, 'M', False], 'Jorge': [8, 23, 'M', True], 'Andrea': [9, 19, 'F', True], 'Alexis Josué': [90, 24, 'M', True]}\n"
          ]
        }
      ]
    },
    {
      "cell_type": "markdown",
      "source": [
        "#### 8.- Agregar un diccionario al final de la lista de cada alumno con su telefono y domicilio\n",
        "'Hugo':[10,9,'M',True,{'telefono':'4651012895','calle':'centauro',....}]\n",
        "* calle\n",
        "* numero\n",
        "* CP\n",
        "* Colonia\n",
        "* numero interior solo a 2 alumnos"
      ],
      "metadata": {
        "id": "Kox_WFUJ40rj"
      }
    },
    {
      "cell_type": "code",
      "source": [
        "direcciones = {\n",
        "    'Hugo':   {'telefono':'4651012895','calle':'Centauro','numero':'12','CP':'44100','Colonia':'Centro','numero_interior':'2'},\n",
        "    'Daniel': {'telefono':'3312345678','calle':'Lerdo','numero':'45','CP':'44110','Colonia':'Americana'},\n",
        "    'Marcos': {'telefono':'3322233344','calle':'Independencia','numero':'78','CP':'44120','Colonia':'Providencia','numero_interior':'5'},\n",
        "    'Adrian': {'telefono':'3333344455','calle':'Robles','numero':'9','CP':'44130','Colonia':'Oblatos'},\n",
        "    'Jorge':  {'telefono':'3344455566','calle':'Juarez','numero':'101','CP':'44140','Colonia':'Chapultepec'},\n",
        "    'Andrea': {'telefono':'3355566677','calle':'Zaragoza','numero':'22','CP':'44150','Colonia':'Valle'},\n",
        "    'Alexis Josué': {'telefono':'3366677788','calle':'Reforma','numero':'5','CP':'44160','Colonia':'Del Sol'}\n",
        "}\n",
        "\n",
        "for nombre, info in alumnos.items():\n",
        "    contacto = direcciones.get(nombre, {})\n",
        "    info.append(contacto)\n",
        "\n",
        "print(\"alumnos con contacto =\", alumnos)"
      ],
      "metadata": {
        "id": "8opzcFd85Ujs",
        "colab": {
          "base_uri": "https://localhost:8080/"
        },
        "outputId": "8b12261b-ab0a-4132-fa60-e8a63c30bf70"
      },
      "execution_count": 22,
      "outputs": [
        {
          "output_type": "stream",
          "name": "stdout",
          "text": [
            "alumnos con contacto = {'Hugo': [10, 20, 'M', True, {'telefono': '4651012895', 'calle': 'Centauro', 'numero': '12', 'CP': '44100', 'Colonia': 'Centro', 'numero_interior': '2'}, {'telefono': '4651012895', 'calle': 'Centauro', 'numero': '12', 'CP': '44100', 'Colonia': 'Centro', 'numero_interior': '2'}, {'telefono': '4651012895', 'calle': 'Centauro', 'numero': '12', 'CP': '44100', 'Colonia': 'Centro', 'numero_interior': '2'}], 'Daniel': [7.7, 21, 'M', True, {'telefono': '3312345678', 'calle': 'Lerdo', 'numero': '45', 'CP': '44110', 'Colonia': 'Americana'}, {'telefono': '3312345678', 'calle': 'Lerdo', 'numero': '45', 'CP': '44110', 'Colonia': 'Americana'}, {'telefono': '3312345678', 'calle': 'Lerdo', 'numero': '45', 'CP': '44110', 'Colonia': 'Americana'}], 'Marcos': [9.8, 22, 'M', True, {'telefono': '3322233344', 'calle': 'Independencia', 'numero': '78', 'CP': '44120', 'Colonia': 'Providencia', 'numero_interior': '5'}, {'telefono': '3322233344', 'calle': 'Independencia', 'numero': '78', 'CP': '44120', 'Colonia': 'Providencia', 'numero_interior': '5'}, {'telefono': '3322233344', 'calle': 'Independencia', 'numero': '78', 'CP': '44120', 'Colonia': 'Providencia', 'numero_interior': '5'}], 'Adrian': [5.4, 20, 'M', False, {'telefono': '3333344455', 'calle': 'Robles', 'numero': '9', 'CP': '44130', 'Colonia': 'Oblatos'}, {'telefono': '3333344455', 'calle': 'Robles', 'numero': '9', 'CP': '44130', 'Colonia': 'Oblatos'}, {'telefono': '3333344455', 'calle': 'Robles', 'numero': '9', 'CP': '44130', 'Colonia': 'Oblatos'}], 'Jorge': [8, 23, 'M', True, {'telefono': '3344455566', 'calle': 'Juarez', 'numero': '101', 'CP': '44140', 'Colonia': 'Chapultepec'}, {'telefono': '3344455566', 'calle': 'Juarez', 'numero': '101', 'CP': '44140', 'Colonia': 'Chapultepec'}, {'telefono': '3344455566', 'calle': 'Juarez', 'numero': '101', 'CP': '44140', 'Colonia': 'Chapultepec'}], 'Andrea': [9, 19, 'F', True, {'telefono': '3355566677', 'calle': 'Zaragoza', 'numero': '22', 'CP': '44150', 'Colonia': 'Valle'}, {'telefono': '3355566677', 'calle': 'Zaragoza', 'numero': '22', 'CP': '44150', 'Colonia': 'Valle'}, {'telefono': '3355566677', 'calle': 'Zaragoza', 'numero': '22', 'CP': '44150', 'Colonia': 'Valle'}], 'Alexis Josué': [90, 24, 'M', True, {'telefono': '3366677788', 'calle': 'Reforma', 'numero': '5', 'CP': '44160', 'Colonia': 'Del Sol'}, {'telefono': '3366677788', 'calle': 'Reforma', 'numero': '5', 'CP': '44160', 'Colonia': 'Del Sol'}, {'telefono': '3366677788', 'calle': 'Reforma', 'numero': '5', 'CP': '44160', 'Colonia': 'Del Sol'}]}\n"
          ]
        }
      ]
    },
    {
      "cell_type": "markdown",
      "source": [
        "#### 9.- Integrar un nuevo alumno con la función .update() que quede igual a los demas"
      ],
      "metadata": {
        "id": "eQbWIohc5W4H"
      }
    },
    {
      "cell_type": "code",
      "source": [
        "# @title\n",
        "nuevo = {\n",
        "    'Elias': [8.5, 20, 'M', True, {'telefono':'3399988877','calle':'Pino','numero':'33','CP':'44170','Colonia':'Lomas'}]\n",
        "}\n",
        "alumnos.update(nuevo)\n",
        "print(\"alumnos final con Elias =\", alumnos)"
      ],
      "metadata": {
        "id": "NbOoCtU05ae4",
        "colab": {
          "base_uri": "https://localhost:8080/"
        },
        "outputId": "29c2a5cb-d68c-43c3-9dda-658a4370ac25"
      },
      "execution_count": 23,
      "outputs": [
        {
          "output_type": "stream",
          "name": "stdout",
          "text": [
            "alumnos final con Elias = {'Hugo': [10, 20, 'M', True, {'telefono': '4651012895', 'calle': 'Centauro', 'numero': '12', 'CP': '44100', 'Colonia': 'Centro', 'numero_interior': '2'}, {'telefono': '4651012895', 'calle': 'Centauro', 'numero': '12', 'CP': '44100', 'Colonia': 'Centro', 'numero_interior': '2'}, {'telefono': '4651012895', 'calle': 'Centauro', 'numero': '12', 'CP': '44100', 'Colonia': 'Centro', 'numero_interior': '2'}], 'Daniel': [7.7, 21, 'M', True, {'telefono': '3312345678', 'calle': 'Lerdo', 'numero': '45', 'CP': '44110', 'Colonia': 'Americana'}, {'telefono': '3312345678', 'calle': 'Lerdo', 'numero': '45', 'CP': '44110', 'Colonia': 'Americana'}, {'telefono': '3312345678', 'calle': 'Lerdo', 'numero': '45', 'CP': '44110', 'Colonia': 'Americana'}], 'Marcos': [9.8, 22, 'M', True, {'telefono': '3322233344', 'calle': 'Independencia', 'numero': '78', 'CP': '44120', 'Colonia': 'Providencia', 'numero_interior': '5'}, {'telefono': '3322233344', 'calle': 'Independencia', 'numero': '78', 'CP': '44120', 'Colonia': 'Providencia', 'numero_interior': '5'}, {'telefono': '3322233344', 'calle': 'Independencia', 'numero': '78', 'CP': '44120', 'Colonia': 'Providencia', 'numero_interior': '5'}], 'Adrian': [5.4, 20, 'M', False, {'telefono': '3333344455', 'calle': 'Robles', 'numero': '9', 'CP': '44130', 'Colonia': 'Oblatos'}, {'telefono': '3333344455', 'calle': 'Robles', 'numero': '9', 'CP': '44130', 'Colonia': 'Oblatos'}, {'telefono': '3333344455', 'calle': 'Robles', 'numero': '9', 'CP': '44130', 'Colonia': 'Oblatos'}], 'Jorge': [8, 23, 'M', True, {'telefono': '3344455566', 'calle': 'Juarez', 'numero': '101', 'CP': '44140', 'Colonia': 'Chapultepec'}, {'telefono': '3344455566', 'calle': 'Juarez', 'numero': '101', 'CP': '44140', 'Colonia': 'Chapultepec'}, {'telefono': '3344455566', 'calle': 'Juarez', 'numero': '101', 'CP': '44140', 'Colonia': 'Chapultepec'}], 'Andrea': [9, 19, 'F', True, {'telefono': '3355566677', 'calle': 'Zaragoza', 'numero': '22', 'CP': '44150', 'Colonia': 'Valle'}, {'telefono': '3355566677', 'calle': 'Zaragoza', 'numero': '22', 'CP': '44150', 'Colonia': 'Valle'}, {'telefono': '3355566677', 'calle': 'Zaragoza', 'numero': '22', 'CP': '44150', 'Colonia': 'Valle'}], 'Alexis Josué': [90, 24, 'M', True, {'telefono': '3366677788', 'calle': 'Reforma', 'numero': '5', 'CP': '44160', 'Colonia': 'Del Sol'}, {'telefono': '3366677788', 'calle': 'Reforma', 'numero': '5', 'CP': '44160', 'Colonia': 'Del Sol'}, {'telefono': '3366677788', 'calle': 'Reforma', 'numero': '5', 'CP': '44160', 'Colonia': 'Del Sol'}], 'Elias': [8.5, 20, 'M', True, {'telefono': '3399988877', 'calle': 'Pino', 'numero': '33', 'CP': '44170', 'Colonia': 'Lomas'}]}\n"
          ]
        }
      ]
    }
  ]
}