{
  "nbformat": 4,
  "nbformat_minor": 0,
  "metadata": {
    "colab": {
      "provenance": [],
      "include_colab_link": true
    },
    "kernelspec": {
      "name": "python3",
      "display_name": "Python 3"
    },
    "language_info": {
      "name": "python"
    }
  },
  "cells": [
    {
      "cell_type": "markdown",
      "metadata": {
        "id": "view-in-github",
        "colab_type": "text"
      },
      "source": [
        "<a href=\"https://colab.research.google.com/github/JonyDolares/AlexisJosu-ValdiviaMedina/blob/main/Copia_de_tarea1_U2.ipynb\" target=\"_parent\"><img src=\"https://colab.research.google.com/assets/colab-badge.svg\" alt=\"Open In Colab\"/></a>"
      ]
    },
    {
      "cell_type": "markdown",
      "source": [
        "#Tarea 1\n",
        "## Oscar Lenin Espinoza Alvarez"
      ],
      "metadata": {
        "id": "0oqcQVpn2oEh"
      }
    },
    {
      "cell_type": "markdown",
      "source": [
        "### Completa los siguientes ejercicios usando las siguientes listas:\n",
        "* lst=[13,3.141,True,'Hola mundo!','x']\n",
        "* lstN=[13,33,45,68]\n",
        "* lstD=[13,33,45,[1,2,3]]"
      ],
      "metadata": {
        "id": "NnPF0SZW222A"
      }
    },
    {
      "cell_type": "markdown",
      "source": [
        "#### 1.- lst: ordenar en asc y desc. en 2 nuevas listas"
      ],
      "metadata": {
        "id": "Y8Xc2bdC3EdY"
      }
    },
    {
      "cell_type": "code",
      "source": [],
      "metadata": {
        "id": "nQl5VrgK21Yd"
      },
      "execution_count": null,
      "outputs": []
    },
    {
      "cell_type": "markdown",
      "source": [
        "#### 2.- lstN debe quedar asi: [13,4.5342,True,'hola mundo']"
      ],
      "metadata": {
        "id": "87UzcB2K3Ox-"
      }
    },
    {
      "cell_type": "code",
      "execution_count": null,
      "metadata": {
        "id": "5mqHdXC52mr2"
      },
      "outputs": [],
      "source": []
    },
    {
      "cell_type": "markdown",
      "source": [
        "### 3.- lstD: eliminar los valores de la lista anidada uno a uno y agregar los siguientes valores 4,5,6.\n"
      ],
      "metadata": {
        "id": "8Ns0qCAq3XrX"
      }
    },
    {
      "cell_type": "code",
      "source": [],
      "metadata": {
        "id": "rGmVuGQh3i_A"
      },
      "execution_count": null,
      "outputs": []
    },
    {
      "cell_type": "markdown",
      "source": [
        "#### 4.- Anidar lst en lstN, anidar lstN en lstD,eliminar 'X' y agregar 'Z' en lst. imprimir lst.\n"
      ],
      "metadata": {
        "id": "tbVJTy8m3rhO"
      }
    },
    {
      "cell_type": "code",
      "source": [],
      "metadata": {
        "id": "LOX55g3J3o7v"
      },
      "execution_count": null,
      "outputs": []
    },
    {
      "cell_type": "markdown",
      "source": [
        "#### 5.- Crear el diccionario con los siguientes elementos. dic={'Hugo':10,'Daniel':7.7,'Marcos':9.8,'Adrian':5.4,'Jorge':8,'Andrea':9}\n"
      ],
      "metadata": {
        "id": "DaS0AKPY3-Rn"
      }
    },
    {
      "cell_type": "code",
      "source": [],
      "metadata": {
        "id": "W1ZrzLoI4FH4"
      },
      "execution_count": null,
      "outputs": []
    },
    {
      "cell_type": "markdown",
      "source": [
        "#### 6.- agregar al diccionario tu nombre y promedio"
      ],
      "metadata": {
        "id": "P-loWtNO4GOP"
      }
    },
    {
      "cell_type": "code",
      "source": [],
      "metadata": {
        "id": "VandOFMR4Uyr"
      },
      "execution_count": null,
      "outputs": []
    },
    {
      "cell_type": "markdown",
      "source": [
        "#### 7.- Crear un nuevo diccionario donde el nombre de cada alumno se la llave y dentro informacion personal, promedio, edad, sexo y un booleano (asistencia) 'Hugo':[10,9,'M',True]"
      ],
      "metadata": {
        "id": "uDNKiaAJ4VXd"
      }
    },
    {
      "cell_type": "code",
      "source": [],
      "metadata": {
        "id": "5nYSVbAH4ohI"
      },
      "execution_count": null,
      "outputs": []
    },
    {
      "cell_type": "markdown",
      "source": [
        "#### 8.- Agregar un diccionario al final de la lista de cada alumno con su telefono y domicilio\n",
        "'Hugo':[10,9,'M',True,{'telefono':'4651012895','calle':'centauro',....}]\n",
        "* calle\n",
        "* numero\n",
        "* CP\n",
        "* Colonia\n",
        "* numero interior solo a 2 alumnos"
      ],
      "metadata": {
        "id": "Kox_WFUJ40rj"
      }
    },
    {
      "cell_type": "code",
      "source": [],
      "metadata": {
        "id": "8opzcFd85Ujs"
      },
      "execution_count": null,
      "outputs": []
    },
    {
      "cell_type": "markdown",
      "source": [
        "#### 9.- Integrar un nuevo alumno con la función .update() que quede igual a los demas"
      ],
      "metadata": {
        "id": "eQbWIohc5W4H"
      }
    },
    {
      "cell_type": "code",
      "source": [],
      "metadata": {
        "id": "NbOoCtU05ae4"
      },
      "execution_count": null,
      "outputs": []
    }
  ]
}